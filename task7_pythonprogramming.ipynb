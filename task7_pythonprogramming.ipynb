{
  "nbformat": 4,
  "nbformat_minor": 0,
  "metadata": {
    "colab": {
      "provenance": []
    },
    "kernelspec": {
      "name": "python3",
      "display_name": "Python 3"
    },
    "language_info": {
      "name": "python"
    }
  },
  "cells": [
    {
      "cell_type": "code",
      "execution_count": null,
      "metadata": {
        "colab": {
          "base_uri": "https://localhost:8080/"
        },
        "id": "hGhNghch3ntP",
        "outputId": "bee61bcd-c20f-4a59-bd19-6627f3be84da"
      },
      "outputs": [
        {
          "output_type": "stream",
          "name": "stdout",
          "text": [
            "Welcome to the Student Grades Analyzer!\n",
            "\n",
            "Number of students: 4\n",
            "\n",
            "Type of student_names list: <class 'list'>\n",
            "Type of student_grades list: <class 'list'>\n",
            "\n",
            "Highest grade: 92\n",
            "Lowest grade: 78\n",
            "\n",
            "Sorted grades: [78, 85, 90, 92]\n",
            "Reversed grades: [92, 90, 85, 78]\n",
            "\n",
            "Grade indices from 1 to number of students: [1, 2, 3, 4]\n"
          ]
        }
      ],
      "source": [
        "def analyze_student_grades():\n",
        "    # Sample data\n",
        "    student_names = [\"Alice\", \"Bob\", \"Charlie\", \"Diana\"]\n",
        "    student_grades = [85, 92, 78, 90]\n",
        "    # 1. Print a welcome message\n",
        "    print(\"Welcome to the Student Grades Analyzer!\\n\")\n",
        "\n",
        "    # 2. Determine and print the number of students\n",
        "    num_students = len(student_names)\n",
        "    print(\"Number of students:\", num_students)\n",
        "\n",
        "    # 3. Print the type of the student names list and the grades list\n",
        "    print(\"\\nType of student_names list:\", type(student_names))\n",
        "    print(\"Type of student_grades list:\", type(student_grades))\n",
        "\n",
        "    # 4. Find and print the highest and lowest grade\n",
        "    highest_grade = max(student_grades)\n",
        "    lowest_grade = min(student_grades)\n",
        "    print(\"\\nHighest grade:\", highest_grade)\n",
        "    print(\"Lowest grade:\", lowest_grade)\n",
        "\n",
        "    # 5. Print the list of grades sorted in ascending order\n",
        "    sorted_grades = sorted(student_grades)\n",
        "    print(\"\\nSorted grades:\", sorted_grades)\n",
        "\n",
        "    # 6. Print the list of grades in reverse order\n",
        "    reversed_grades = list(reversed(sorted_grades))\n",
        "    print(\"Reversed grades:\", reversed_grades)\n",
        "\n",
        "    # 7. Generate and print a range of grade indices from 1 to the number of students\n",
        "    grade_indices = list(range(1, num_students + 1))\n",
        "    print(\"\\nGrade indices from 1 to number of students:\", grade_indices)\n",
        "\n",
        "# Run the analysis\n",
        "analyze_student_grades()\n",
        "\n"
      ]
    },
    {
      "cell_type": "code",
      "source": [
        "def add(a, b):\n",
        "    \"\"\"Return the sum of two numbers.\"\"\"\n",
        "    return a + b\n",
        "def subtract(a, b):\n",
        "    \"\"\"Return the difference between two numbers.\"\"\"\n",
        "    return a - b\n",
        "def multiply(a, b):\n",
        "    \"\"\"Return the product of two numbers.\"\"\"\n",
        "    return a * b\n",
        "def divide(a, b):\n",
        "    \"\"\"Return the quotient of two numbers. Handles division by zero.\"\"\"\n",
        "    if b != 0:\n",
        "        return a / b\n",
        "    else:\n",
        "        return \"Error: Division by zero\"\n",
        "def greet(name):\n",
        "    \"\"\"Return a greeting message for the user.\"\"\"\n",
        "    return f\"Hello, {name}! Welcome to the program.\"\n",
        "def main():\n",
        "    # Demonstrating the use of user-defined functions\n",
        "    # Arithmetic operations\n",
        "    num1 = 10\n",
        "    num2 = 5\n",
        "    print(\"Arithmetic Operations:\")\n",
        "    print(f\"Sum of {num1} and {num2}:\", add(num1, num2))\n",
        "    print(f\"Difference between {num1} and {num2}:\", subtract(num1, num2))\n",
        "    print(f\"Product of {num1} and {num2}:\", multiply(num1, num2))\n",
        "    print(f\"Quotient of {num1} and {num2}:\", divide(num1, num2))\n",
        "    # Greeting the user\n",
        "    user_name = \"Alice\"\n",
        "    print(\"\\nGreeting:\")\n",
        "    print(greet(user_name))\n",
        "\n",
        "# Run the main function\n",
        "if __name__ == \"__main__\":\n",
        "    main()\n"
      ],
      "metadata": {
        "colab": {
          "base_uri": "https://localhost:8080/"
        },
        "id": "jtAtPlEQ7jPy",
        "outputId": "4ebbed4b-e231-4692-c791-844c9e8ef80a"
      },
      "execution_count": null,
      "outputs": [
        {
          "output_type": "stream",
          "name": "stdout",
          "text": [
            "Arithmetic Operations:\n",
            "Sum of 10 and 5: 15\n",
            "Difference between 10 and 5: 5\n",
            "Product of 10 and 5: 50\n",
            "Quotient of 10 and 5: 2.0\n",
            "\n",
            "Greeting:\n",
            "Hello, Alice! Welcome to the program.\n"
          ]
        }
      ]
    }
  ]
}