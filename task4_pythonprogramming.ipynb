{
  "nbformat": 4,
  "nbformat_minor": 0,
  "metadata": {
    "colab": {
      "provenance": []
    },
    "kernelspec": {
      "name": "python3",
      "display_name": "Python 3"
    },
    "language_info": {
      "name": "python"
    }
  },
  "cells": [
    {
      "cell_type": "code",
      "execution_count": 1,
      "metadata": {
        "colab": {
          "base_uri": "https://localhost:8080/"
        },
        "id": "F_ypZIDH2gEi",
        "outputId": "658f1f60-3a84-4e99-e0c1-457953a1a7e7"
      },
      "outputs": [
        {
          "output_type": "stream",
          "name": "stdout",
          "text": [
            "[10, 20, 30]\n",
            "[10, 30]\n",
            "[30]\n",
            "[5, 8, 9, 15, 30, 89]\n",
            "The minimum value is: 5\n",
            "The maximum value is: 89\n",
            "The sum is: 156\n",
            "The average is : 26.0\n"
          ]
        }
      ],
      "source": [
        "#Add Elements: Add elements to the list.\n",
        "list=[10,20]\n",
        "a=30\n",
        "\n",
        "list.append(a)\n",
        "print(list)\n",
        "#Remove Elements: Remove specific elements from the list.\n",
        "list.pop(1)#by index value\n",
        "print(list)\n",
        "list.remove(10)#by itemname\n",
        "print(list)\n",
        "#Sort Elements: Sort the list in ascending and descending order.\n",
        "l=[5,8,9,15,30,89]\n",
        "print(sorted(l))\n",
        "#Find Minimum and Maximum: Find the minimum and maximum elements in thelist.\n",
        "print(\"The minimum value is:\",min(l))\n",
        "print(\"The maximum value is:\",max(l))\n",
        "#Calculate Sum and Average\n",
        "print(\"The sum is:\",sum(l))\n",
        "print(\"The average is :\",((sum(l)/len(l))))\n"
      ]
    },
    {
      "cell_type": "code",
      "source": [
        "#Create a Tuple: Define a tuple with elements of different data types(10, 'hello', 3.14, 'world')\n",
        "print(\"The minimum value is:\",min(l))\n",
        "print(\"The maximum value is:\",max(l))\n",
        "#Calculate Sum and Average\n",
        "print(\"The sum is:\",sum(l))\n",
        "print(\"The average is :\",((sum(l)/len(l))))\n",
        "tuple = (10,'hello',3.14,'world')\n",
        "print(tuple)\n",
        "#access elements: access individual elements and slices of the tuple.\n",
        "for i in tuple:\n",
        "  print(i)\n",
        "print(tuple[1:3])\n",
        "print(tuple[:-1])\n",
        "#concatenate Tuples: combine two tuples to create a new tuple\n",
        "t2 = (5,0.5)\n",
        "t3 = tuple+t2\n",
        "print(t3)\n",
        "#immunable nature: attempt modify elements of the tuple and handle the resulting error\n"
      ],
      "metadata": {
        "colab": {
          "base_uri": "https://localhost:8080/"
        },
        "id": "A4uCsikK5bI-",
        "outputId": "78d72701-4acb-40eb-d6d3-ceddd81031f3"
      },
      "execution_count": null,
      "outputs": [
        {
          "output_type": "stream",
          "name": "stdout",
          "text": [
            "(10, 'hello', 3.14, 'world')\n",
            "10\n",
            "hello\n",
            "3.14\n",
            "world\n",
            "('hello', 3.14)\n",
            "(10, 'hello', 3.14)\n",
            "(10, 'hello', 3.14, 'world', 5, 0.5)\n"
          ]
        }
      ]
    },
    {
      "cell_type": "code",
      "source": [
        "#create a dictionary: Define a dictionary with key-value pairs of different data types.({'name':'Alice','age':30,'city':'New York'})\n",
        "dictionary={'name':'Alice','age':30,'city':'New York'}\n",
        "print(dictionary)\n",
        "#access values: access values using keys\n",
        "print(dictionary['name'])\n",
        "print(dictionary['age'])\n",
        "\n",
        "#modify dictionary: update values,add new key value pairs, and remove existing pairs\n",
        "dictionary['name']=\"James\"\n",
        "print(dictionary)\n",
        "dictionary.pop('city')\n",
        "print(dictionary)\n",
        "#iterate over dictionary: use loops to iterate over keys or values.\n",
        "for k in dictionary:\n",
        "  print(\"KEY:\",k)\n",
        "\n",
        "print(dictionary.items())"
      ],
      "metadata": {
        "colab": {
          "base_uri": "https://localhost:8080/"
        },
        "id": "fn98HtEB8QU1",
        "outputId": "a4637d93-92a6-417c-919a-3cc5ff966b28"
      },
      "execution_count": null,
      "outputs": [
        {
          "output_type": "stream",
          "name": "stdout",
          "text": [
            "{'name': 'Alice', 'age': 30, 'city': 'New York'}\n",
            "Alice\n",
            "30\n",
            "{'name': 'James', 'age': 30, 'city': 'New York'}\n",
            "{'name': 'James', 'age': 30}\n",
            "KEY: name\n",
            "KEY: age\n",
            "dict_items([('name', 'James'), ('age', 30)])\n"
          ]
        }
      ]
    }
  ]
}