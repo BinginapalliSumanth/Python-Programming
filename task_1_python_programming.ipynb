{
  "nbformat": 4,
  "nbformat_minor": 0,
  "metadata": {
    "colab": {
      "provenance": [],
      "toc_visible": true,
      "authorship_tag": "ABX9TyO6REv2IoyrBSr8na2mhYbM",
      "include_colab_link": true
    },
    "kernelspec": {
      "name": "python3",
      "display_name": "Python 3"
    },
    "language_info": {
      "name": "python"
    }
  },
  "cells": [
    {
      "cell_type": "markdown",
      "metadata": {
        "id": "view-in-github",
        "colab_type": "text"
      },
      "source": [
        "<a href=\"https://colab.research.google.com/github/BinginapalliSumanth/Python-Programming/blob/main/task_1_python_programming.ipynb\" target=\"_parent\"><img src=\"https://colab.research.google.com/assets/colab-badge.svg\" alt=\"Open In Colab\"/></a>"
      ]
    },
    {
      "cell_type": "code",
      "source": [
        "x = int(input(\"Enter the first number: \"))\n",
        "y = int(input(\"Enter the second number: \"))\n",
        "\n",
        "add = x+y\n",
        "sub = x-y\n",
        "pro = x*y\n",
        "div = x/y\n",
        "\n",
        "print(\"addition:\",add)\n",
        "print(\"subtraction:\",sub)\n",
        "print(\"multiplication:\",pro)\n",
        "print(\"division:\",div)"
      ],
      "metadata": {
        "colab": {
          "base_uri": "https://localhost:8080/"
        },
        "id": "SBpMMOoA0mpD",
        "outputId": "97bb0f10-b7b0-459e-82ce-d1f15ae0134d"
      },
      "execution_count": null,
      "outputs": [
        {
          "output_type": "stream",
          "name": "stdout",
          "text": [
            "Enter the first number: 5\n",
            "Enter the second number: 6\n",
            "addition: 11\n",
            "subtraction: -1\n",
            "multiplication: 30\n",
            "division: 0.8333333333333334\n"
          ]
        }
      ]
    },
    {
      "cell_type": "markdown",
      "source": [
        "# New Section"
      ],
      "metadata": {
        "id": "lAt8xts61wBa"
      }
    },
    {
      "cell_type": "code",
      "source": [
        "a = int(input(\"Enter the first number: \"))\n",
        "b = int(input(\"Enter the second number: \"))\n",
        "c = int(input(\"Enter the third number: \"))\n",
        "\n",
        "#using relational operators\n",
        "print(a, \">\",b,\"is\", a>b)\n",
        "print(a, \"<\",b,\"is\", a<b)\n",
        "print(c, \"==\",a,\"is\", c==a)\n",
        "print(c, \"!=\",b,\"is\", c!=b)\n",
        "print(a, \">=\",b,\"is\", a>=b)\n",
        "print(b, \"<=\",a,\"is\", b<=a)"
      ],
      "metadata": {
        "colab": {
          "base_uri": "https://localhost:8080/"
        },
        "id": "ItA6vElz2t0a",
        "outputId": "31796482-3474-4ac4-82c0-9fe66fe34854"
      },
      "execution_count": null,
      "outputs": [
        {
          "output_type": "stream",
          "name": "stdout",
          "text": [
            "Enter the first number: 5\n",
            "Enter the second number: 6\n",
            "Enter the third number: 7\n",
            "5 > 6 is False\n",
            "5 < 6 is True\n",
            "7 == 5 is False\n",
            "7 != 6 is True\n",
            "5 >= 6 is False\n",
            "6 <= 5 is False\n"
          ]
        }
      ]
    },
    {
      "cell_type": "code",
      "source": [
        "a = int(input(\"Enter the first number: \"))\n",
        "b = int(input(\"Enter the second number: \"))\n",
        "c = int(input(\"Enter the third number: \"))\n",
        "\n",
        "#using logical operators\n",
        "print(\"\\nLogical operations results: \")\n",
        "print((a>b) and (b>c))\n",
        "print((a>b) or (b>c))\n",
        "print(not(a>b))\n",
        "print(not(b>c))"
      ],
      "metadata": {
        "colab": {
          "base_uri": "https://localhost:8080/"
        },
        "id": "uyJbNJW06Dta",
        "outputId": "f0cffbb1-3ab0-4420-9dad-767699484995"
      },
      "execution_count": null,
      "outputs": [
        {
          "output_type": "stream",
          "name": "stdout",
          "text": [
            "Enter the first number: 5\n",
            "Enter the second number: 6\n",
            "Enter the third number: 7\n",
            "\n",
            "Logical operations results: \n",
            "False\n",
            "False\n",
            "True\n",
            "True\n"
          ]
        }
      ]
    }
  ]
}