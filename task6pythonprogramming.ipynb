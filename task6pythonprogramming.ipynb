{
  "nbformat": 4,
  "nbformat_minor": 0,
  "metadata": {
    "colab": {
      "provenance": []
    },
    "kernelspec": {
      "name": "python3",
      "display_name": "Python 3"
    },
    "language_info": {
      "name": "python"
    }
  },
  "cells": [
    {
      "cell_type": "code",
      "execution_count": null,
      "metadata": {
        "colab": {
          "base_uri": "https://localhost:8080/"
        },
        "id": "9qKDSsmv7BPL",
        "outputId": "ab632408-600f-472c-e356-4e0fae813019"
      },
      "outputs": [
        {
          "output_type": "stream",
          "name": "stdout",
          "text": [
            "Error objects are thrown when runtime errors occur. The Error object can also be used as a base object for user-defined exceptions \n"
          ]
        }
      ],
      "source": [
        "def writefile(filename):\n",
        "    with open(filename, \"w\") as f:\n",
        "        f.write(\"Error objects are thrown when runtime errors occur. The Error object can also be used as a base object for user-defined exceptions \")\n",
        "\n",
        "def readfile(filename):\n",
        "    with open(filename, \"r\") as file:\n",
        "        content = file.read()\n",
        "        print(content)\n",
        "\n",
        "# Use the same filename for writing and reading\n",
        "filename = \"log.txt\"\n",
        "writefile(filename)\n",
        "readfile(filename)\n"
      ]
    },
    {
      "cell_type": "code",
      "source": [
        "def count_error_lines(filename):\n",
        "    error_count = 0\n",
        "    with open(filename, \"r\") as file:\n",
        "        for line in file:\n",
        "            if \"ERROR\" in line:\n",
        "                error_count += 1\n",
        "    return error_count\n",
        "error_lines = count_error_lines(\"log.txt\")\n",
        "print(f\"Number of lines with 'ERROR': {error_lines}\")\n",
        "\n",
        "\n"
      ],
      "metadata": {
        "colab": {
          "base_uri": "https://localhost:8080/"
        },
        "id": "X9Xe2k4nDebL",
        "outputId": "1168d59a-a5a2-4129-f704-5c98758526d7"
      },
      "execution_count": null,
      "outputs": [
        {
          "output_type": "stream",
          "name": "stdout",
          "text": [
            "Number of lines with 'ERROR': 0\n"
          ]
        }
      ]
    },
    {
      "cell_type": "code",
      "source": [
        "def write_employee_report(filename):\n",
        "    employees = [\n",
        "        {\"name\": \"Alice\", \"department\": \"HR\"},\n",
        "        {\"name\": \"Bob\", \"department\": \"Engineering\"},\n",
        "        {\"name\": \"Charlie\", \"department\": \"Finance\"}\n",
        "    ]\n",
        "\n",
        "    with open(filename, \"w\") as file:\n",
        "        for employee in employees:\n",
        "            line = f\"Name: {employee['name']}, Department: {employee['department']}\\n\"\n",
        "            file.write(line)\n",
        "\n",
        "    # Read back and print to verify\n",
        "    with open(filename, \"r\") as file:\n",
        "        print(file.read())\n",
        "\n",
        "write_employee_report(\"employee_report.txt\")"
      ],
      "metadata": {
        "colab": {
          "base_uri": "https://localhost:8080/"
        },
        "id": "AHLdmNEyCKor",
        "outputId": "b62e3004-b965-46dc-bddc-5f8b802c2820"
      },
      "execution_count": null,
      "outputs": [
        {
          "output_type": "stream",
          "name": "stdout",
          "text": [
            "Name: Alice, Department: HR\n",
            "Name: Bob, Department: Engineering\n",
            "Name: Charlie, Department: Finance\n",
            "\n"
          ]
        }
      ]
    }
  ]
}